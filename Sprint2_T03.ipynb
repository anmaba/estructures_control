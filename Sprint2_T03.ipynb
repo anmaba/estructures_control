{
 "cells": [
  {
   "cell_type": "markdown",
   "id": "9c2e5140",
   "metadata": {},
   "source": [
    "# Estructura de control\n",
    "\n",
    "Descripció:\n",
    "- Comencem a familiaritzar-nos amb les estructures de control de Python\n",
    "\n",
    "## NIVELL 1\n",
    "   "
   ]
  },
  {
   "cell_type": "markdown",
   "id": "bb2c0024",
   "metadata": {},
   "source": [
    "### Exercici 1\n",
    "L'exercici consisteix a crear un programa que et classifiqui una variable numèrica en funció de l’escala Suspès/Aprovat/Notable/Excel·lent.\n",
    "\n"
   ]
  },
  {
   "cell_type": "code",
   "execution_count": 10,
   "id": "64571415",
   "metadata": {
    "ExecuteTime": {
     "end_time": "2022-04-07T13:11:55.641590Z",
     "start_time": "2022-04-07T13:11:51.008194Z"
    }
   },
   "outputs": [
    {
     "name": "stdout",
     "output_type": "stream",
     "text": [
      "Entra una nota entre el 0 i el 10 7\n",
      "La nota introduïda és un 7.0 i correspon a:\n",
      "Notable\n"
     ]
    }
   ],
   "source": [
    "import numpy as np\n",
    "\n",
    "contador = 0\n",
    "x= -1\n",
    "\n",
    "#he intentat fer una espècies de do while de java perquè la x es vagi repetint en bucle fins a entrar el número correcte\n",
    "while x<0 or x>10:\n",
    "    x= float(input(\"Entra una nota entre el 0 i el 10 \"))\n",
    "    contador =+ contador\n",
    "    if x >= 0 and x<=10:\n",
    "        print(\"La nota introduïda és un\", x, \"i correspon a:\")\n",
    "        break\n",
    "\n",
    "if x >=0 and x<5:\n",
    "    print(\"Suspès\")\n",
    "elif x >=5 and x<7:\n",
    "    print(\"Aprovat\")\n",
    "elif x >=7 and x<9:\n",
    "    print(\"Notable\")\n",
    "elif x >=9 and x<=10:\n",
    "    print(\"Excel·lent\")\n"
   ]
  },
  {
   "cell_type": "markdown",
   "id": "93b3e0be",
   "metadata": {},
   "source": [
    "### Exercici 2\n",
    "Utilitzant el següent tutorial Programiz: Python Input, Output and Import crea un programa que et pregunti dos números. T’ha de mostrar un missatge dient si el primer és més gran, el segon és més gran o són iguals.\n",
    "\n"
   ]
  },
  {
   "cell_type": "code",
   "execution_count": 11,
   "id": "eff0b657",
   "metadata": {
    "ExecuteTime": {
     "end_time": "2022-04-07T13:12:11.069013Z",
     "start_time": "2022-04-07T13:12:00.211856Z"
    }
   },
   "outputs": [
    {
     "name": "stdout",
     "output_type": "stream",
     "text": [
      "Escriu un número 6\n",
      "Escriu un altre número 5\n",
      "El número 5.0  és més petit que el número 6.0\n"
     ]
    }
   ],
   "source": [
    "x=float(input(\"Escriu un número \"))\n",
    "y=float(input(\"Escriu un altre número \"))\n",
    "\n",
    "if x < y:\n",
    "    print(\"El número\", x, \" és més petit que el número\", y)\n",
    "elif x > y:\n",
    "    print(\"El número\", y, \" és més petit que el número\", x)\n",
    "elif x == y:\n",
    "    print(x, \"i\", y, \"són iguals\")\n"
   ]
  },
  {
   "cell_type": "markdown",
   "id": "dce6cc01",
   "metadata": {},
   "source": [
    "### Exercici 3\n",
    "Crea un programa que et pregunti el teu nom, i et demani un número. Si el número és 0, hauria de mostrar un missatge d’error. En cas contrari, hauria de mostrar el nom repetit tants cops com indiqui el número. Per exemple, “Joan Joan Joan”.\n",
    "\n"
   ]
  },
  {
   "cell_type": "code",
   "execution_count": 12,
   "id": "df844c7f",
   "metadata": {
    "ExecuteTime": {
     "end_time": "2022-04-07T13:12:24.564073Z",
     "start_time": "2022-04-07T13:12:19.328550Z"
    }
   },
   "outputs": [
    {
     "name": "stdout",
     "output_type": "stream",
     "text": [
      "Escriu el teu nom Anna\n",
      "Escriu un número positiu enter 6\n",
      "El número que has triat és el 6\n",
      "Anna Anna Anna Anna Anna Anna \n"
     ]
    }
   ],
   "source": [
    "nom = input(\"Escriu el teu nom \")\n",
    "contador = 0\n",
    "x= 0\n",
    "\n",
    "#he intentat fer una espècies de do while de java perquè la x es vagi repetint en bucle fins a entrar el número correcte\n",
    "while x<=0:\n",
    "    x= int(input(\"Escriu un número positiu enter \"))\n",
    "    contador =+ contador\n",
    "    if x > 0:\n",
    "        print(\"El número que has triat és el\", x)\n",
    "        break\n",
    "nomE = nom + \" \"\n",
    "print(nomE*x)"
   ]
  },
  {
   "cell_type": "markdown",
   "id": "0184b11c",
   "metadata": {},
   "source": [
    "### Exercici 4\n",
    "Crea un programa que donada una llista qualsevol, et digui si es simètrica o no. Si ho és, que et digui quants elements té.\n"
   ]
  },
  {
   "cell_type": "code",
   "execution_count": 13,
   "id": "7e892958",
   "metadata": {
    "ExecuteTime": {
     "end_time": "2022-04-07T13:12:33.008942Z",
     "start_time": "2022-04-07T13:12:32.984956Z"
    }
   },
   "outputs": [
    {
     "name": "stdout",
     "output_type": "stream",
     "text": [
      "[ 6 10 23 99 68 54 57 68 31  7]\n",
      "[ 7 31 68 57 54 68 99 23 10  6]\n",
      "La llista no és simètrica\n"
     ]
    }
   ],
   "source": [
    "llista = np.random.randint(100, size=(10))\n",
    "llistaRev = llista[::-1]     #amb numpy hem de fer servir [::-1] per fer l'acció de reverse() normal de python\n",
    "#llistaRev = llista\n",
    "\n",
    "#comentar una de les dues llistaRev anteriors per saber que funciona l'if else següent quan hi ha  o no simetria\n",
    "\n",
    "print(llista)\n",
    "print(llistaRev)\n",
    "\n",
    "if np.array_equal(llista, llistaRev):\n",
    "    print(\"La llista és simètrica i té \", len(llista), \"elements\")\n",
    "else:\n",
    "    print(\"La llista no és simètrica\")\n"
   ]
  },
  {
   "cell_type": "markdown",
   "id": "e64f16ae",
   "metadata": {},
   "source": [
    "### Exercici 5\n",
    "Crea un programa que donada una llista, et digui quants números coincideixen amb la seva posició. Per exemple [3,4,2,0,2,3,6] el 2 i el 6 coincideixen."
   ]
  },
  {
   "cell_type": "code",
   "execution_count": 8,
   "id": "df5b8f71",
   "metadata": {
    "ExecuteTime": {
     "end_time": "2022-04-07T13:11:30.590111Z",
     "start_time": "2022-04-07T13:11:30.568127Z"
    },
    "code_folding": [],
    "run_control": {
     "marked": false
    }
   },
   "outputs": [
    {
     "name": "stdout",
     "output_type": "stream",
     "text": [
      "[5 5 4 0 6 3 1 5 4 9]\n",
      "Concideixen en número i posició un total de 0 elements\n"
     ]
    }
   ],
   "source": [
    "llista = np.random.randint(10, size=(10))\n",
    "#llista = [0,3,2,4,3,5,9,7,5,2]\n",
    "print(llista)\n",
    "\n",
    "contador = 0\n",
    "valorPosicio = 0\n",
    "\n",
    "\n",
    "for valorPosicio in range(0,len(llista)):\n",
    "    #if str(valorPosicio) == llista[valorPosicio]:\n",
    "    if np.array_equal(str(valorPosicio), llista[valorPosicio]):\n",
    "        contador += contador\n",
    "       \n",
    "print(\"Concideixen en número i posició un total de\", contador, \"elements\")\n",
    "\n"
   ]
  },
  {
   "cell_type": "code",
   "execution_count": null,
   "id": "90aa7988",
   "metadata": {},
   "outputs": [],
   "source": []
  }
 ],
 "metadata": {
  "hide_input": false,
  "kernelspec": {
   "display_name": "Python 3 (ipykernel)",
   "language": "python",
   "name": "python3"
  },
  "language_info": {
   "codemirror_mode": {
    "name": "ipython",
    "version": 3
   },
   "file_extension": ".py",
   "mimetype": "text/x-python",
   "name": "python",
   "nbconvert_exporter": "python",
   "pygments_lexer": "ipython3",
   "version": "3.9.7"
  },
  "latex_envs": {
   "LaTeX_envs_menu_present": true,
   "autoclose": false,
   "autocomplete": true,
   "bibliofile": "biblio.bib",
   "cite_by": "apalike",
   "current_citInitial": 1,
   "eqLabelWithNumbers": true,
   "eqNumInitial": 1,
   "hotkeys": {
    "equation": "Ctrl-E",
    "itemize": "Ctrl-I"
   },
   "labels_anchors": false,
   "latex_user_defs": false,
   "report_style_numbering": false,
   "user_envs_cfg": false
  },
  "toc": {
   "base_numbering": 1,
   "nav_menu": {},
   "number_sections": true,
   "sideBar": true,
   "skip_h1_title": false,
   "title_cell": "Table of Contents",
   "title_sidebar": "Contents",
   "toc_cell": false,
   "toc_position": {},
   "toc_section_display": true,
   "toc_window_display": false
  },
  "varInspector": {
   "cols": {
    "lenName": 16,
    "lenType": 16,
    "lenVar": 40
   },
   "kernels_config": {
    "python": {
     "delete_cmd_postfix": "",
     "delete_cmd_prefix": "del ",
     "library": "var_list.py",
     "varRefreshCmd": "print(var_dic_list())"
    },
    "r": {
     "delete_cmd_postfix": ") ",
     "delete_cmd_prefix": "rm(",
     "library": "var_list.r",
     "varRefreshCmd": "cat(var_dic_list()) "
    }
   },
   "types_to_exclude": [
    "module",
    "function",
    "builtin_function_or_method",
    "instance",
    "_Feature"
   ],
   "window_display": false
  }
 },
 "nbformat": 4,
 "nbformat_minor": 5
}
